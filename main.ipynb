{
 "cells": [
  {
   "cell_type": "code",
   "execution_count": null,
   "metadata": {},
   "outputs": [],
   "source": [
    "include(\"hamiltonian.jl\")\n",
    "\n",
    "using .hamiltonian\n",
    "using Logging\n",
    "using MPSKitModels, MPSKit, TensorKit, TensorOperations, Plots\n",
    "\n",
    "disable_logging(LogLevel(Info))"
   ]
  },
  {
   "cell_type": "code",
   "execution_count": null,
   "metadata": {},
   "outputs": [],
   "source": [
    "function optimize_groundstate(; N=2, spin=1, J=0.5, θ=0.0, max_bond::Int64=10)\n",
    "\n",
    "    H = bilinear_biquadratic_hamiltonian(spin=spin, J=J, θ=θ)\n",
    "    if (N == Inf) #could do this with a different function too\n",
    "        Ψ = optimize_infinite_groundstate(H, spin=spin, max_bond=max_bond)\n",
    "\n",
    "    else\n",
    "        Ψ = optimize_finite_groundstate(H, N=N, spin=spin, max_bond=max_bond)\n",
    "    end\n",
    "\n",
    "    @show sum(expectation_value(Ψ, H))\n",
    "    @show norm(Ψ)\n",
    "    if (N == Inf)\n",
    "        @show correlation_length(Ψ)\n",
    "    end\n",
    "    entanglementplot(Ψ)\n",
    "end\n",
    "\n",
    "optimize_groundstate(N=Inf, spin=1, J=0.1, θ=0.0)\n"
   ]
  }
 ],
 "metadata": {
  "kernelspec": {
   "display_name": "Julia 1.8.1",
   "language": "julia",
   "name": "julia-1.8"
  },
  "language_info": {
   "file_extension": ".jl",
   "mimetype": "application/julia",
   "name": "julia",
   "version": "1.8.1"
  }
 },
 "nbformat": 4,
 "nbformat_minor": 4
}
