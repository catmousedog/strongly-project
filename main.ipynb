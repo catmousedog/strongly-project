{
 "cells": [
  {
   "attachments": {},
   "cell_type": "markdown",
   "metadata": {},
   "source": [
    "## Bilinear-Biquadratic Chain\n",
    "\n",
    "$$\n",
    "H=J\\sum_i \\cos\\theta \\left( \\boldsymbol S_i\\cdot \\boldsymbol S_{i+1}\\right) + \\sin\\theta\\left(\\boldsymbol S_i\\cdot \\boldsymbol S_{i+1}\\right)^2\n",
    "$$"
   ]
  },
  {
   "cell_type": "code",
   "execution_count": null,
   "metadata": {},
   "outputs": [],
   "source": [
    "using MPSKitModels, MPSKit, TensorKit, TensorOperations, Plots\n",
    "\n",
    "include(\"hamiltonian.jl\")\n",
    "\n",
    "using Logging\n",
    "disable_logging(LogLevel(Info))"
   ]
  },
  {
   "attachments": {},
   "cell_type": "markdown",
   "metadata": {},
   "source": [
    "## Entanglement Spectra\n",
    "\n",
    "Schmidt decomposition:\n",
    "$$\n",
    "\\ket \\Psi = \\sum_{\\alpha=1}^D\\lambda_\\alpha \\ket \\Phi^A_\\alpha \\otimes \\ket \\Phi^B_\\alpha\n",
    "$$\n",
    "The Schmidt coefficients resemble entanglement. High coefficients mean more entanglement whilst $\\lambda_\\alpha=\\{1, 0, 0, ...\\}$ means we have a product state.\n",
    "\n",
    "We can approximate the state by truncating the MPS when the Schmidt coefficients are sufficiently low."
   ]
  },
  {
   "attachments": {},
   "cell_type": "markdown",
   "metadata": {},
   "source": [
    "#### Ferromagnetic spin=1:\n",
    "- product state"
   ]
  },
  {
   "cell_type": "code",
   "execution_count": null,
   "metadata": {},
   "outputs": [],
   "source": [
    "Ψ = optimize_groundstate(spin=1, θ=π, bond=10, maxiter=500)\n",
    "entanglementplot(Ψ)"
   ]
  },
  {
   "attachments": {},
   "cell_type": "markdown",
   "metadata": {},
   "source": [
    "#### AntiFerromagnetic spin=1:\n",
    "- in SPT phase\n",
    "- not a product state"
   ]
  },
  {
   "cell_type": "code",
   "execution_count": null,
   "metadata": {},
   "outputs": [],
   "source": [
    "Ψ = optimize_groundstate(spin=1, J=1.0, θ=0, bond=12, maxiter=500)\n",
    "entanglementplot(Ψ)"
   ]
  },
  {
   "attachments": {},
   "cell_type": "markdown",
   "metadata": {},
   "source": [
    "#### AKLT:\n",
    "- $\\theta = \\arctan(1/3)$\n",
    "- exactly represented by $\\textrm{bond}=2$"
   ]
  },
  {
   "cell_type": "code",
   "execution_count": null,
   "metadata": {},
   "outputs": [],
   "source": [
    "Ψ = optimize_groundstate(spin=1, J=1.0, θ=atan(1/3), bond=6, maxiter=500)\n",
    "entanglementplot(Ψ)"
   ]
  },
  {
   "attachments": {},
   "cell_type": "markdown",
   "metadata": {},
   "source": [
    "## Convergence\n",
    "\n",
    "If we optimize the HAFM for $\\textrm{bond}=7$ we get poor convergence, whilst $\\textrm{bond}=8$ gets good convergence."
   ]
  },
  {
   "cell_type": "code",
   "execution_count": null,
   "metadata": {},
   "outputs": [],
   "source": [
    "Ψ1 = optimize_groundstate(spin=1, J=1.0, θ=0, bond=7, maxiter=500)\n",
    "entanglementplot(Ψ1)"
   ]
  },
  {
   "cell_type": "code",
   "execution_count": null,
   "metadata": {},
   "outputs": [],
   "source": [
    "Ψ2 = optimize_groundstate(spin=1, J=1.0, θ=0, bond=8, maxiter=500)\n",
    "entanglementplot(Ψ2)"
   ]
  },
  {
   "attachments": {},
   "cell_type": "markdown",
   "metadata": {},
   "source": [
    "## SPT\n",
    "\n",
    "Choose a state with a symmetry group $\\mathrm G$.\n",
    "\n",
    "The *Fundamental theorem of MPS* $\\implies$ different equivalence classes.\n",
    "\n",
    "Two states of the same 'class' can be connected via a path of gapped parent Hamiltonians, thus no phase transitions $\\implies$ class = phase.\n",
    "\n",
    "If we travel from one class to another we must cross a phase transition if the symmetry is preserved $\\implies$ SPT.\n",
    "\n",
    "The amount of equivalence classes is equal to the order of the second cohomology group $H^2(\\mathrm G, \\mathrm U_1)$.\n",
    "\n",
    "Symmetry has to be represented by a linear representation but symmetry can be represented projectively on a virtual level.\n",
    "\n",
    "#### AntiFerromagnet spin=1\n",
    "\n",
    "$H^2(\\mathrm{SO}_3, \\mathrm U_1)=\\mathbb Z_2\\implies$ 2 phases:\n",
    "- Trivial phase: connectable to a product state\n",
    "- Haldane phase: virtual projective representation of the physical symmetry $\\mathrm{SO}_3$\n",
    "\n",
    "The half integer spin representation are projective reps. of $\\mathrm{SO}_3$. Hence"
   ]
  },
  {
   "cell_type": "markdown",
   "metadata": {},
   "source": []
  }
 ],
 "metadata": {
  "kernelspec": {
   "display_name": "Julia 1.8.1",
   "language": "julia",
   "name": "julia-1.8"
  },
  "language_info": {
   "file_extension": ".jl",
   "mimetype": "application/julia",
   "name": "julia",
   "version": "1.8.1"
  }
 },
 "nbformat": 4,
 "nbformat_minor": 4
}
