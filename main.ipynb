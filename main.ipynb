{
 "cells": [
  {
   "cell_type": "code",
   "execution_count": 1,
   "metadata": {},
   "outputs": [],
   "source": [
    "include(\"hamiltonian.jl\")\n",
    "using .hamiltonian\n",
    "\n",
    "using MPSKit, MPSKitModels, TensorKit, TensorOperations"
   ]
  },
  {
   "cell_type": "code",
   "execution_count": 4,
   "metadata": {},
   "outputs": [
    {
     "data": {
      "text/plain": [
       "calc_groundstate (generic function with 1 method)"
      ]
     },
     "metadata": {},
     "output_type": "display_data"
    }
   ],
   "source": [
    "function calc_groundstate(N, spin; J=1.0, θ=π)\n",
    "    H = AKLT_hamiltonian(J=J, θ=θ, spin=spin)\n",
    "    Ψ = FiniteMPS(randn, ComplexF64, N, ℂ^2, ℂ^10)\n",
    "    Ψ, envs, δ = find_groundstate(Ψ, H, DMRG())\n",
    "    E = sum(expectation_value(Ψ, H))\n",
    "    println(E)\n",
    "    return Ψ, E\n",
    "end"
   ]
  },
  {
   "cell_type": "code",
   "execution_count": 5,
   "metadata": {},
   "outputs": [
    {
     "name": "stdout",
     "output_type": "stream",
     "text": [
      "-0.7499999999999998 + 1.9304825536919012e-17im\n"
     ]
    },
    {
     "name": "stderr",
     "output_type": "stream",
     "text": [
      "┌ Info: Iteraton 0 error 4.1023840556694544e-16\n",
      "└ @ MPSKit /home/arno/.julia/packages/MPSKit/xZ4LA/src/algorithms/groundstate/dmrg.jl:38\n"
     ]
    },
    {
     "ename": "TaskFailedException",
     "evalue": "TaskFailedException\n\n    nested task error: SpaceMismatch()\n    Stacktrace:\n      [1] getindex(err::FoldsThreads.Implementations.Err{SpaceMismatch{Nothing}})\n        @ FoldsThreads.Implementations ~/.julia/packages/FoldsThreads/aWnRU/src/utils.jl:38\n      [2] transduce_ws(ctx::FoldsThreads.Implementations.NoopDACContext, rf::Function, init::Transducers.InitOf{Transducers.DefaultInitOf}, xs::FoldsThreads.Implementations.SizedReducible{UnitRange{Int64}, Int64})\n        @ FoldsThreads.Implementations ~/.julia/packages/FoldsThreads/aWnRU/src/workstealing.jl:155\n      [3] #_transduce_ws#54\n        @ ~/.julia/packages/FoldsThreads/aWnRU/src/workstealing.jl:29 [inlined]\n      [4] transduce\n        @ ~/.julia/packages/FoldsThreads/aWnRU/src/workstealing.jl:1 [inlined]\n      [5] _fold\n        @ ~/.julia/packages/FLoops/6PVny/src/reduce.jl:851 [inlined]\n      [6] macro expansion\n        @ ~/.julia/packages/FLoops/6PVny/src/reduce.jl:829 [inlined]\n      [7] macro expansion\n        @ ~/.julia/packages/MPSKit/xZ4LA/src/transfermatrix/transfer.jl:186 [inlined]\n      [8] (::MPSKit.var\"#400#threadsfor_fun#155\"{MPSKit.var\"#400#threadsfor_fun#154#156\"{Vector{TensorMap{ComplexSpace, 2, 1, Trivial, Matrix{ComplexF64}, Nothing, Nothing}}, MPSKit.SparseMPOSlice{ComplexSpace, TensorMap{ComplexSpace, 2, 2, Trivial, Matrix{ComplexF64}, Nothing, Nothing}, ComplexF64}, TensorMap{ComplexSpace, 2, 1, Trivial, Matrix{ComplexF64}, Nothing, Nothing}, TensorMap{ComplexSpace, 2, 1, Trivial, Matrix{ComplexF64}, Nothing, Nothing}, Vector{TensorMap{ComplexSpace, 2, 1, Trivial, Matrix{ComplexF64}, Nothing, Nothing}}, UnitRange{Int64}}})(tid::Int64; onethread::Bool)\n        @ MPSKit ./threadingconstructs.jl:84\n      [9] #400#threadsfor_fun\n        @ ./threadingconstructs.jl:51 [inlined]\n     [10] (::Base.Threads.var\"#1#2\"{MPSKit.var\"#400#threadsfor_fun#155\"{MPSKit.var\"#400#threadsfor_fun#154#156\"{Vector{TensorMap{ComplexSpace, 2, 1, Trivial, Matrix{ComplexF64}, Nothing, Nothing}}, MPSKit.SparseMPOSlice{ComplexSpace, TensorMap{ComplexSpace, 2, 2, Trivial, Matrix{ComplexF64}, Nothing, Nothing}, ComplexF64}, TensorMap{ComplexSpace, 2, 1, Trivial, Matrix{ComplexF64}, Nothing, Nothing}, TensorMap{ComplexSpace, 2, 1, Trivial, Matrix{ComplexF64}, Nothing, Nothing}, Vector{TensorMap{ComplexSpace, 2, 1, Trivial, Matrix{ComplexF64}, Nothing, Nothing}}, UnitRange{Int64}}}, Int64})()\n        @ Base.Threads ./threadingconstructs.jl:30",
     "output_type": "error",
     "traceback": [
      "TaskFailedException\n",
      "\n",
      "    nested task error: SpaceMismatch()\n",
      "    Stacktrace:\n",
      "      [1] getindex(err::FoldsThreads.Implementations.Err{SpaceMismatch{Nothing}})\n",
      "        @ FoldsThreads.Implementations ~/.julia/packages/FoldsThreads/aWnRU/src/utils.jl:38\n",
      "      [2] transduce_ws(ctx::FoldsThreads.Implementations.NoopDACContext, rf::Function, init::Transducers.InitOf{Transducers.DefaultInitOf}, xs::FoldsThreads.Implementations.SizedReducible{UnitRange{Int64}, Int64})\n",
      "        @ FoldsThreads.Implementations ~/.julia/packages/FoldsThreads/aWnRU/src/workstealing.jl:155\n",
      "      [3] #_transduce_ws#54\n",
      "        @ ~/.julia/packages/FoldsThreads/aWnRU/src/workstealing.jl:29 [inlined]\n",
      "      [4] transduce\n",
      "        @ ~/.julia/packages/FoldsThreads/aWnRU/src/workstealing.jl:1 [inlined]\n",
      "      [5] _fold\n",
      "        @ ~/.julia/packages/FLoops/6PVny/src/reduce.jl:851 [inlined]\n",
      "      [6] macro expansion\n",
      "        @ ~/.julia/packages/FLoops/6PVny/src/reduce.jl:829 [inlined]\n",
      "      [7] macro expansion\n",
      "        @ ~/.julia/packages/MPSKit/xZ4LA/src/transfermatrix/transfer.jl:186 [inlined]\n",
      "      [8] (::MPSKit.var\"#400#threadsfor_fun#155\"{MPSKit.var\"#400#threadsfor_fun#154#156\"{Vector{TensorMap{ComplexSpace, 2, 1, Trivial, Matrix{ComplexF64}, Nothing, Nothing}}, MPSKit.SparseMPOSlice{ComplexSpace, TensorMap{ComplexSpace, 2, 2, Trivial, Matrix{ComplexF64}, Nothing, Nothing}, ComplexF64}, TensorMap{ComplexSpace, 2, 1, Trivial, Matrix{ComplexF64}, Nothing, Nothing}, TensorMap{ComplexSpace, 2, 1, Trivial, Matrix{ComplexF64}, Nothing, Nothing}, Vector{TensorMap{ComplexSpace, 2, 1, Trivial, Matrix{ComplexF64}, Nothing, Nothing}}, UnitRange{Int64}}})(tid::Int64; onethread::Bool)\n",
      "        @ MPSKit ./threadingconstructs.jl:84\n",
      "      [9] #400#threadsfor_fun\n",
      "        @ ./threadingconstructs.jl:51 [inlined]\n",
      "     [10] (::Base.Threads.var\"#1#2\"{MPSKit.var\"#400#threadsfor_fun#155\"{MPSKit.var\"#400#threadsfor_fun#154#156\"{Vector{TensorMap{ComplexSpace, 2, 1, Trivial, Matrix{ComplexF64}, Nothing, Nothing}}, MPSKit.SparseMPOSlice{ComplexSpace, TensorMap{ComplexSpace, 2, 2, Trivial, Matrix{ComplexF64}, Nothing, Nothing}, ComplexF64}, TensorMap{ComplexSpace, 2, 1, Trivial, Matrix{ComplexF64}, Nothing, Nothing}, TensorMap{ComplexSpace, 2, 1, Trivial, Matrix{ComplexF64}, Nothing, Nothing}, Vector{TensorMap{ComplexSpace, 2, 1, Trivial, Matrix{ComplexF64}, Nothing, Nothing}}, UnitRange{Int64}}}, Int64})()\n",
      "        @ Base.Threads ./threadingconstructs.jl:30\n",
      "\n",
      "Stacktrace:\n",
      "  [1] wait\n",
      "    @ ./task.jl:345 [inlined]\n",
      "  [2] threading_run(fun::MPSKit.var\"#400#threadsfor_fun#155\"{MPSKit.var\"#400#threadsfor_fun#154#156\"{Vector{TensorMap{ComplexSpace, 2, 1, Trivial, Matrix{ComplexF64}, Nothing, Nothing}}, MPSKit.SparseMPOSlice{ComplexSpace, TensorMap{ComplexSpace, 2, 2, Trivial, Matrix{ComplexF64}, Nothing, Nothing}, ComplexF64}, TensorMap{ComplexSpace, 2, 1, Trivial, Matrix{ComplexF64}, Nothing, Nothing}, TensorMap{ComplexSpace, 2, 1, Trivial, Matrix{ComplexF64}, Nothing, Nothing}, Vector{TensorMap{ComplexSpace, 2, 1, Trivial, Matrix{ComplexF64}, Nothing, Nothing}}, UnitRange{Int64}}}, static::Bool)\n",
      "    @ Base.Threads ./threadingconstructs.jl:38\n",
      "  [3] macro expansion\n",
      "    @ ./threadingconstructs.jl:89 [inlined]\n",
      "  [4] transfer_right\n",
      "    @ ~/.julia/packages/MPSKit/xZ4LA/src/transfermatrix/transfer.jl:183 [inlined]\n",
      "  [5] transfer_right\n",
      "    @ ~/.julia/packages/MPSKit/xZ4LA/src/transfermatrix/transfer.jl:133 [inlined]\n",
      "  [6] SingleTransferMatrix\n",
      "    @ ~/.julia/packages/MPSKit/xZ4LA/src/transfermatrix/transfermatrix.jl:41 [inlined]\n",
      "  [7] *\n",
      "    @ ~/.julia/packages/MPSKit/xZ4LA/src/transfermatrix/transfermatrix.jl:36 [inlined]\n",
      "  [8] rightenv(ca::MPSKit.FinEnv{Nothing, MPOHamiltonian{ComplexSpace, TensorMap{ComplexSpace, 2, 2, Trivial, Matrix{ComplexF64}, Nothing, Nothing}, ComplexF64}, TensorMap{ComplexSpace, 2, 1, Trivial, Matrix{ComplexF64}, Nothing, Nothing}, Vector{TensorMap{ComplexSpace, 2, 1, Trivial, Matrix{ComplexF64}, Nothing, Nothing}}}, ind::Int64, state::FiniteMPS{TensorMap{ComplexSpace, 2, 1, Trivial, Matrix{ComplexF64}, Nothing, Nothing}, TensorMap{ComplexSpace, 1, 1, Trivial, Matrix{ComplexF64}, Nothing, Nothing}})\n",
      "    @ MPSKit ~/.julia/packages/MPSKit/xZ4LA/src/environments/FinEnv.jl:96\n",
      "  [9] ∂∂AC\n",
      "    @ ~/.julia/packages/MPSKit/xZ4LA/src/algorithms/derivatives.jl:39 [inlined]\n",
      " [10] find_groundstate!(Ψ::FiniteMPS{TensorMap{ComplexSpace, 2, 1, Trivial, Matrix{ComplexF64}, Nothing, Nothing}, TensorMap{ComplexSpace, 1, 1, Trivial, Matrix{ComplexF64}, Nothing, Nothing}}, H::MPOHamiltonian{ComplexSpace, TensorMap{ComplexSpace, 2, 2, Trivial, Matrix{ComplexF64}, Nothing, Nothing}, ComplexF64}, alg::DMRG{KrylovKit.Arnoldi{KrylovKit.ModifiedGramSchmidt2, Float64}, typeof(MPSKit.Defaults._finalize)}, envs::MPSKit.FinEnv{Nothing, MPOHamiltonian{ComplexSpace, TensorMap{ComplexSpace, 2, 2, Trivial, Matrix{ComplexF64}, Nothing, Nothing}, ComplexF64}, TensorMap{ComplexSpace, 2, 1, Trivial, Matrix{ComplexF64}, Nothing, Nothing}, Vector{TensorMap{ComplexSpace, 2, 1, Trivial, Matrix{ComplexF64}, Nothing, Nothing}}})\n",
      "    @ MPSKit ~/.julia/packages/MPSKit/xZ4LA/src/algorithms/groundstate/dmrg.jl:32\n",
      " [11] find_groundstate!\n",
      "    @ ~/.julia/packages/MPSKit/xZ4LA/src/algorithms/groundstate/dmrg.jl:23 [inlined]\n",
      " [12] find_groundstate(::FiniteMPS{TensorMap{ComplexSpace, 2, 1, Trivial, Matrix{ComplexF64}, Nothing, Nothing}, TensorMap{ComplexSpace, 1, 1, Trivial, Matrix{ComplexF64}, Nothing, Nothing}}, ::MPOHamiltonian{ComplexSpace, TensorMap{ComplexSpace, 2, 2, Trivial, Matrix{ComplexF64}, Nothing, Nothing}, ComplexF64}, ::DMRG{KrylovKit.Arnoldi{KrylovKit.ModifiedGramSchmidt2, Float64}, typeof(MPSKit.Defaults._finalize)})\n",
      "    @ MPSKit ~/.julia/packages/MPSKit/xZ4LA/src/algorithms/groundstate/dmrg.jl:123\n",
      " [13] calc_groundstate(N::Int64, spin::Int64; J::Float64, θ::Irrational{:π})\n",
      "    @ Main ~/Documents/UGent/Ma1/sem2/strongly/strongly-project/main.ipynb:4\n",
      " [14] calc_groundstate(N::Int64, spin::Int64)\n",
      "    @ Main ~/Documents/UGent/Ma1/sem2/strongly/strongly-project/main.ipynb:1\n",
      " [15] top-level scope\n",
      "    @ ~/Documents/UGent/Ma1/sem2/strongly/strongly-project/main.ipynb:5"
     ]
    }
   ],
   "source": [
    "# spin 1//2 ferromagnetic\n",
    "calc_groundstate(4, 1//2)\n",
    "\n",
    "# spin 1 heisenberg ferromagnetic error\n",
    "calc_groundstate(4, 1)"
   ]
  }
 ],
 "metadata": {
  "kernelspec": {
   "display_name": "Julia 1.8.1",
   "language": "julia",
   "name": "julia-1.8"
  },
  "language_info": {
   "file_extension": ".jl",
   "mimetype": "application/julia",
   "name": "julia",
   "version": "1.8.1"
  }
 },
 "nbformat": 4,
 "nbformat_minor": 4
}
