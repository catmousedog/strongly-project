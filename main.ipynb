{
 "cells": [
  {
   "cell_type": "code",
   "execution_count": null,
   "metadata": {},
   "outputs": [],
   "source": [
    "include(\"hamiltonian.jl\")\n",
    "\n",
    "using .hamiltonian\n",
    "using Logging\n",
    "using MPSKitModels, MPSKit, TensorKit, TensorOperations, Plots\n",
    "\n",
    "disable_logging(LogLevel(Info))"
   ]
  },
  {
   "cell_type": "code",
   "execution_count": null,
   "metadata": {},
   "outputs": [],
   "source": [
    "Ψ = optimize_groundstate(N=Inf, spin=1//2, J=0.1, θ=0, max_bond=50, maxiter=300)\n",
    "entanglementplot(Ψ)"
   ]
  }
 ],
 "metadata": {
  "kernelspec": {
   "display_name": "Julia 1.8.1",
   "language": "julia",
   "name": "julia-1.8"
  },
  "language_info": {
   "file_extension": ".jl",
   "mimetype": "application/julia",
   "name": "julia",
   "version": "1.8.1"
  }
 },
 "nbformat": 4,
 "nbformat_minor": 4
}
