{
 "cells": [
  {
   "cell_type": "code",
   "execution_count": null,
   "metadata": {},
   "outputs": [],
   "source": [
    "include(\"hamiltonian.jl\")\n",
    "using .hamiltonian\n",
    "\n",
    "using MPSKit, MPSKitModels, TensorKit, TensorOperations\n",
    "\n",
    "using Logging\n",
    "\n",
    "# Disable info logging\n",
    "disable_logging(LogLevel(Info))"
   ]
  },
  {
   "cell_type": "code",
   "execution_count": null,
   "metadata": {},
   "outputs": [],
   "source": [
    "function calc_groundstate(N, spin, θ, J; max_bond::Int64=10)\n",
    "    @assert N > 1\n",
    "\n",
    "    H = AKLT_hamiltonian(J=J, θ=θ, spin=spin)\n",
    "    Ψ = FiniteMPS(randn, ComplexF64, N, ℂ^2, ℂ^max_bond)\n",
    "    Ψ, envs, δ = find_groundstate(Ψ, H, DMRG())\n",
    "    E = sum(expectation_value(Ψ, H))\n",
    "    println(E)\n",
    "    return Ψ, E\n",
    "end"
   ]
  },
  {
   "cell_type": "code",
   "execution_count": null,
   "metadata": {},
   "outputs": [],
   "source": [
    "# spin 1//2 ferromagnetic: should be -0.75: -0.75\n",
    "calc_groundstate(4, 1//2, π)\n",
    "\n",
    "# spin 1//2 anti-ferromagnetic should be -0.75: -0.75\n",
    "calc_groundstate(2, 1//2, 0, J=1.0)\n",
    "\n",
    "# spin 1//2 anti-ferromagnetic should be -1.773: -1.736\n",
    "calc_groundstate(20, 1//2, 0, J=0.2)\n",
    "\n",
    "# spin 1 heisenberg ferromagnetic: error\n",
    "calc_groundstate(4, 1, π)"
   ]
  }
 ],
 "metadata": {
  "kernelspec": {
   "display_name": "Julia 1.8.1",
   "language": "julia",
   "name": "julia-1.8"
  },
  "language_info": {
   "file_extension": ".jl",
   "mimetype": "application/julia",
   "name": "julia",
   "version": "1.8.1"
  }
 },
 "nbformat": 4,
 "nbformat_minor": 4
}
