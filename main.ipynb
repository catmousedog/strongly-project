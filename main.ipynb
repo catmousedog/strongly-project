{
 "cells": [
  {
   "attachments": {},
   "cell_type": "markdown",
   "metadata": {},
   "source": [
    "## Bilinear-Biquadratic Chain\n",
    "\n",
    "$$\n",
    "H=J\\sum_i \\cos\\theta \\left( \\boldsymbol S_i\\cdot \\boldsymbol S_{i+1}\\right) + \\sin\\theta\\left(\\boldsymbol S_i\\cdot \\boldsymbol S_{i+1}\\right)^2\n",
    "$$"
   ]
  },
  {
   "cell_type": "code",
   "execution_count": null,
   "metadata": {},
   "outputs": [],
   "source": [
    "using MPSKitModels, MPSKit, TensorKit, TensorOperations, Plots\n",
    "\n",
    "include(\"hamiltonian.jl\")\n",
    "include(\"groundstate.jl\")\n",
    "include(\"plot_spectrum.jl\")\n",
    "\n",
    "using Logging\n",
    "disable_logging(LogLevel(Info))"
   ]
  },
  {
   "attachments": {},
   "cell_type": "markdown",
   "metadata": {},
   "source": [
    "## Entanglement Spectra\n",
    "\n",
    "Schmidt decomposition:\n",
    "$$\n",
    "\\ket \\Psi = \\sum_{\\alpha=1}^D\\lambda_\\alpha \\ket \\Phi^A_\\alpha \\otimes \\ket \\Phi^B_\\alpha\n",
    "$$\n",
    "The Schmidt coefficients resemble entanglement. High coefficients mean more entanglement whilst $\\lambda_\\alpha=\\{1, 0, 0, ...\\}$ means we have a product state.\n",
    "\n",
    "We can approximate the state by truncating the MPS when the Schmidt coefficients are sufficiently low."
   ]
  },
  {
   "attachments": {},
   "cell_type": "markdown",
   "metadata": {},
   "source": [
    "#### Ferromagnetic spin=1:\n",
    "- product state"
   ]
  },
  {
   "cell_type": "code",
   "execution_count": null,
   "metadata": {},
   "outputs": [],
   "source": [
    "HFM = bilinear_biquadratic_hamiltonian(spin=1, θ=π)\n",
    "Ψ_HFM = optimize_groundstate(HFM, bond=10, maxiter=500)\n",
    "spectrum_HFM = entanglement_spectrum(Ψ_HFM)\n",
    "plot_entanglement(spectrum_HFM)\n",
    "display(current())"
   ]
  },
  {
   "attachments": {},
   "cell_type": "markdown",
   "metadata": {},
   "source": [
    "#### AntiFerromagnetic spin=1:\n",
    "- in SPT phase\n",
    "- not a product state"
   ]
  },
  {
   "cell_type": "code",
   "execution_count": null,
   "metadata": {},
   "outputs": [],
   "source": [
    "HAFM = bilinear_biquadratic_hamiltonian(spin=1, θ=0)\n",
    "Ψ_HAFM = optimize_groundstate(HAFM, bond=12, maxiter=500)\n",
    "spectrum_HAFM = entanglement_spectrum(Ψ_HAFM)\n",
    "plot_entanglement(spectrum_HAFM)\n",
    "display(current())"
   ]
  },
  {
   "attachments": {},
   "cell_type": "markdown",
   "metadata": {},
   "source": [
    "#### AKLT:\n",
    "- $\\theta = \\arctan(1/3)$\n",
    "- exactly represented by $\\textrm{bond}=2$"
   ]
  },
  {
   "cell_type": "code",
   "execution_count": null,
   "metadata": {},
   "outputs": [],
   "source": [
    "AKLT = bilinear_biquadratic_hamiltonian(spin=1, θ=atan(1/3))\n",
    "Ψ_AKLT = optimize_groundstate(AKLT, bond=6, maxiter=500)\n",
    "spectrum_AKLT = entanglement_spectrum(Ψ_AKLT)\n",
    "plot_entanglement(spectrum_AKLT)\n",
    "display(current())"
   ]
  },
  {
   "attachments": {},
   "cell_type": "markdown",
   "metadata": {},
   "source": [
    "## SPT\n",
    "\n",
    "Choose a state with a symmetry group $\\mathrm G$.\n",
    "\n",
    "The *Fundamental theorem of MPS* $\\implies$ different equivalence classes.\n",
    "\n",
    "Two states of the same 'class' can be connected via a path of gapped parent Hamiltonians, thus no phase transitions $\\implies$ class = phase.\n",
    "\n",
    "If we travel from one class to another we must cross a phase transition if the symmetry is preserved $\\implies$ symmetry protected.\n",
    "\n",
    "The amount of equivalence classes is equal to the order of the second cohomology group $H^2(\\mathrm G, \\mathrm U_1)$.\n",
    "\n",
    "Symmetry has to be represented by a **physical linear rep.** but can be represented by a **virtual projective rep.**\n",
    "\n",
    "\n",
    "#### AntiFerromagnet spin=1\n",
    "\n",
    "$H^2(\\mathrm{SO}_3, \\mathrm U_1)=\\mathbb Z_2\\implies$ 2 phases:\n",
    "- Trivial phase: **linear rep.**\n",
    "- Haldane phase: **projective rep.**\n",
    "\n",
    "The half integer spin reps. are projective reps. of $\\mathrm{SO}_3$. The Haldane phase thus has half integer reps.\n",
    "\n",
    "The right fixed point $\\rho$ is invariant under our virtual symmetry:\n",
    "$$\n",
    "X_g\\rho X_g^\\dagger = \\rho \\implies \\textrm{$\\rho$ is proportional to }\n",
    "$$\n",
    "The degeneracy of the eigenvalues of $\\rho$, which are the Schmidt coefficients, are determined by the irreps. of $X_g$."
   ]
  },
  {
   "attachments": {},
   "cell_type": "markdown",
   "metadata": {},
   "source": [
    "## Degeneracies\n",
    "\n",
    "These degeneracies are always even for our spin=1 $\\mathrm{SO}_3$ state as the **virtual projective reps.** are the half integer reps. which have even dimension."
   ]
  },
  {
   "cell_type": "code",
   "execution_count": null,
   "metadata": {},
   "outputs": [],
   "source": [
    "plot_entanglement(spectrum_HAFM)\n",
    "annotate!(2 + 1, spectrum_HAFM[2], text(\"spin=1/2\", :red, 10))\n",
    "annotate!(6 + 1, spectrum_HAFM[6], text(\"spin=3/2\", :red, 10))\n",
    "annotate!(8 + 1, spectrum_HAFM[8], text(\"spin=1/2\", :red, 10))\n",
    "display(current())"
   ]
  },
  {
   "attachments": {},
   "cell_type": "markdown",
   "metadata": {},
   "source": [
    "## Convergence\n",
    "\n",
    "If we optimize the HAFM for $\\textrm{bond}=7$ we get poor convergence, whilst $\\textrm{bond}=8$ gets good convergence.\n",
    "\n",
    "The state is approximated by a direct sum of irreps and cutting one of these irreps in half makes for a harder approximation."
   ]
  },
  {
   "cell_type": "code",
   "execution_count": null,
   "metadata": {},
   "outputs": [],
   "source": [
    "Ψ1 = optimize_groundstate(HAFM, bond=7)\n",
    "entanglement_spectrum(Ψ1)"
   ]
  },
  {
   "cell_type": "code",
   "execution_count": null,
   "metadata": {},
   "outputs": [],
   "source": [
    "Ψ2 = optimize_groundstate(HAFM, bond=8)\n",
    "entanglement_spectrum(Ψ2)"
   ]
  },
  {
   "attachments": {},
   "cell_type": "markdown",
   "metadata": {},
   "source": [
    "## Approaching AKLT\n",
    "\n",
    "$\\theta\\to \\arctan(1/3)\\approx 0.3218$\n",
    "\n",
    "For increasing $\\theta$ we get an increase in the excitation energy of the magnon. The gap increases and we get overal decreased entanglement. \n",
    "\n",
    "At $\\theta = \\arctan(1/3)$ we get the AKLT ground state which is exactly described by an MPS with $\\textrm{bond}=2$.\n"
   ]
  },
  {
   "cell_type": "code",
   "execution_count": null,
   "metadata": {},
   "outputs": [],
   "source": [
    "θ_AKLT_approach = linrange(0, atan(1/3), 15; endpoint=false)\n",
    "\n",
    "Ψ_AKLT_list = bilinear_biquadratic_θ_range(θ_AKLT_approach, spin=1, bond=12, maxiter=500)\n",
    "spectra_AKLT = entanglement_spectra(Ψ_AKLT_list)\n",
    "\n",
    "plot_spectra(θ_AKLT_approach, spectra_AKLT)\n",
    "display(current())"
   ]
  },
  {
   "attachments": {},
   "cell_type": "markdown",
   "metadata": {},
   "source": [
    "We take the Schmidt value $\\chi=4$ and see how it changes for each $\\theta$:"
   ]
  },
  {
   "cell_type": "code",
   "execution_count": null,
   "metadata": {},
   "outputs": [],
   "source": [
    "plot_schmidt_range(θ_AKLT_approach, spectra_AKLT, 3)\n",
    "vline!([atan(1/3)], label=nothing)\n",
    "display(current())"
   ]
  },
  {
   "cell_type": "code",
   "execution_count": null,
   "metadata": {},
   "outputs": [],
   "source": [
    "H = bilinear_biquadratic_hamiltonian(spin=1, θ=0.249*π)\n",
    "Ψ = optimize_groundstate(H, bond=12, maxiter=500)\n",
    "spectrum = entanglement_spectrum(Ψ)\n",
    "plot_entanglement(spectrum)\n",
    "display(current())"
   ]
  },
  {
   "cell_type": "code",
   "execution_count": null,
   "metadata": {},
   "outputs": [],
   "source": [
    "θ_Nematic_approach = linrange(0, π/4, 20; endpoint=false)\n",
    "\n",
    "Ψ_Nematic_list = bilinear_biquadratic_θ_range(θ_Nematic_approach, spin=1, bond=12, maxiter=500)\n",
    "spectra_Nematic = entanglement_spectra(Ψ_Nematic_list)\n",
    "\n",
    "plot_spectra(θ_Nematic_approach, spectra_Nematic)\n",
    "display(current())"
   ]
  },
  {
   "attachments": {},
   "cell_type": "markdown",
   "metadata": {},
   "source": [
    "Notes:\n",
    "- It has been shown that the Haldane gap is only invariant under physical linear representations (not sure if this is always true for SPT phases)\n",
    "- The order of the virtual irreps in the SPT phase is just what happens to make the ground state the lowest energy\n",
    "- Excitation gap of the magnon becomes zero as $\\theta \\to \\pi/4$\n",
    "- gapped H have exponential correlation decay -> MPS are good to describe these low entanglement states\n",
    "- gapless H have power law decay"
   ]
  }
 ],
 "metadata": {
  "kernelspec": {
   "display_name": "Julia 1.8.1",
   "language": "julia",
   "name": "julia-1.8"
  },
  "language_info": {
   "file_extension": ".jl",
   "mimetype": "application/julia",
   "name": "julia",
   "version": "1.8.1"
  }
 },
 "nbformat": 4,
 "nbformat_minor": 4
}
