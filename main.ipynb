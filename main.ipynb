{
 "cells": [
  {
   "attachments": {},
   "cell_type": "markdown",
   "metadata": {},
   "source": [
    "## Bilinear-Biquadratic Chain\n",
    "\n",
    "$$\n",
    "H=J\\sum_i \\cos\\theta \\left( \\boldsymbol S_i\\cdot \\boldsymbol S_{i+1}\\right) + \\sin\\theta\\left(\\boldsymbol S_i\\cdot \\boldsymbol S_{i+1}\\right)^2\n",
    "$$"
   ]
  },
  {
   "cell_type": "code",
   "execution_count": null,
   "metadata": {},
   "outputs": [],
   "source": [
    "using MPSKitModels, MPSKit, TensorKit, TensorOperations, Plots\n",
    "\n",
    "include(\"hamiltonian.jl\")\n",
    "include(\"groundstate.jl\")\n",
    "include(\"plot_spectrum.jl\")\n",
    "\n",
    "using Logging\n",
    "disable_logging(LogLevel(Info))"
   ]
  },
  {
   "attachments": {},
   "cell_type": "markdown",
   "metadata": {},
   "source": [
    "## Entanglement Spectra\n",
    "\n",
    "Schmidt decomposition:\n",
    "$$\n",
    "\\ket \\Psi = \\sum_{\\alpha=1}^D\\lambda_\\alpha \\ket \\Phi^A_\\alpha \\otimes \\ket \\Phi^B_\\alpha\n",
    "$$\n",
    "The Schmidt coefficients resemble entanglement. High coefficients mean more entanglement whilst $\\lambda_\\alpha=\\{1, 0, 0, ...\\}$ means we have a product state.\n",
    "\n",
    "We can approximate the state by truncating the MPS when the Schmidt coefficients are sufficiently low."
   ]
  },
  {
   "attachments": {},
   "cell_type": "markdown",
   "metadata": {},
   "source": [
    "#### Ferromagnetic spin=1:\n",
    "- product state"
   ]
  },
  {
   "cell_type": "code",
   "execution_count": null,
   "metadata": {},
   "outputs": [],
   "source": [
    "HFM = bilinear_biquadratic_hamiltonian(spin=1, θ=π)\n",
    "Ψ_HFM = optimize_groundstate(HFM, bond=10, maxiter=500)\n",
    "spectrum_HFM = entanglement_spectrum(Ψ_HFM)\n",
    "plot_entanglement(spectrum_HFM)\n",
    "display(current())"
   ]
  },
  {
   "attachments": {},
   "cell_type": "markdown",
   "metadata": {},
   "source": [
    "#### AntiFerromagnetic spin=1:\n",
    "- in SPT phase\n",
    "- not a product state"
   ]
  },
  {
   "cell_type": "code",
   "execution_count": null,
   "metadata": {},
   "outputs": [],
   "source": [
    "HAFM = bilinear_biquadratic_hamiltonian(spin=1, θ=0)\n",
    "Ψ_HAFM = optimize_groundstate(HAFM, bond=12, maxiter=500)\n",
    "spectrum_HAFM = entanglement_spectrum(Ψ_HAFM)\n",
    "plot_entanglement(spectrum_HAFM)\n",
    "display(current())"
   ]
  },
  {
   "attachments": {},
   "cell_type": "markdown",
   "metadata": {},
   "source": [
    "#### AKLT:\n",
    "- $\\theta = \\arctan(1/3)$\n",
    "- exactly represented by $\\textrm{bond}=2$"
   ]
  },
  {
   "cell_type": "code",
   "execution_count": null,
   "metadata": {},
   "outputs": [],
   "source": [
    "AKLT = bilinear_biquadratic_hamiltonian(spin=1, θ=atan(1/3))\n",
    "Ψ_AKLT = optimize_groundstate(AKLT, bond=6, maxiter=500)\n",
    "spectrum_AKLT = entanglement_spectrum(Ψ_AKLT)\n",
    "plot_entanglement(spectrum_AKLT)\n",
    "display(current())"
   ]
  },
  {
   "attachments": {},
   "cell_type": "markdown",
   "metadata": {},
   "source": [
    "## SPT\n",
    "\n",
    "Choose a state with a symmetry group $\\mathrm G$.\n",
    "\n",
    "The *Fundamental theorem of MPS* $\\implies$ different equivalence classes.\n",
    "\n",
    "Two states of the same 'class' can be connected via a path of gapped parent hamiltonians, thus no phase transitions $\\implies$ class = phase.\n",
    "\n",
    "If we travel from one class to another we must cross a phase transition if the symmetry is preserved $\\implies$ symmetry protected.\n",
    "\n",
    "The amount of equivalence classes is equal to the order of the second cohomology group $H^2(\\mathrm G, \\mathrm U_1)$.\n",
    "\n",
    "Symmetry has to be represented by a **physical**¹ **linear rep.** but can be represented by a **virtual projective rep.**\n",
    "\n",
    "\n",
    "#### AntiFerromagnet spin=1\n",
    "\n",
    "$H^2(\\mathrm{SO}_3, \\mathrm U_1)=\\mathbb Z_2\\implies$ 2 phases:\n",
    "- Trivial phase: **linear rep.**\n",
    "- Haldane phase: **projective rep.**\n",
    "\n",
    "The half integer spin reps. are projective reps. of $\\mathrm{SO}_3$. The Haldane phase thus has half integer reps.\n",
    "\n",
    "The right fixed point $\\rho$ is invariant under our virtual symmetry:\n",
    "$$\n",
    "X_g\\rho X_g^\\dagger = \\rho \\implies \\textrm{$\\rho$ is proportional to }\n",
    "$$\n",
    "The degeneracy of the eigenvalues of $\\rho$, which are the Schmidt coefficients, are determined by the irreps. of $X_g$."
   ]
  },
  {
   "attachments": {},
   "cell_type": "markdown",
   "metadata": {},
   "source": [
    "## Degeneracies\n",
    "\n",
    "These degeneracies are always even for our spin=1 $\\mathrm{SO}_3$ state as the **virtual projective reps.** are the half integer reps. which have even dimension."
   ]
  },
  {
   "cell_type": "code",
   "execution_count": null,
   "metadata": {},
   "outputs": [],
   "source": [
    "plot_entanglement(spectrum_HAFM)\n",
    "annotate!(2 + 1, spectrum_HAFM[2], text(\"spin=1/2\", :red, 10))\n",
    "annotate!(6 + 1, spectrum_HAFM[6], text(\"spin=3/2\", :red, 10))\n",
    "annotate!(8 + 1, spectrum_HAFM[8], text(\"spin=1/2\", :red, 10))\n",
    "display(current())"
   ]
  },
  {
   "attachments": {},
   "cell_type": "markdown",
   "metadata": {},
   "source": [
    "## Convergence\n",
    "\n",
    "If we optimize the HAFM for $\\textrm{bond}=7$ we need more iterations to converge, whilst $\\textrm{bond}=8$ gets fast convergence with less iterations.\n",
    "\n",
    "The state is approximated by a direct sum of projective irreps on a virtual level and cutting one of these irreps in half makes for a harder approximation."
   ]
  },
  {
   "cell_type": "code",
   "execution_count": null,
   "metadata": {},
   "outputs": [],
   "source": [
    "Ψ1 = optimize_groundstate(HAFM, bond=7)\n",
    "entanglement_spectrum(Ψ1)"
   ]
  },
  {
   "cell_type": "code",
   "execution_count": null,
   "metadata": {},
   "outputs": [],
   "source": [
    "Ψ2 = optimize_groundstate(HAFM, bond=8)\n",
    "entanglement_spectrum(Ψ2)"
   ]
  },
  {
   "attachments": {},
   "cell_type": "markdown",
   "metadata": {},
   "source": [
    "## Approaching AKLT\n",
    "\n",
    "$\\theta\\to \\arctan(1/3)\\approx 0.3218$\n",
    "\n",
    "For increasing $\\theta$ we get an increase in the excitation energy of the magnon. The gap increases and we get overal decreased entanglement. \n",
    "\n",
    "At $\\theta = \\arctan(1/3)$ we get the AKLT ground state which is exactly described by an MPS with $\\textrm{bond}=2$.\n"
   ]
  },
  {
   "cell_type": "code",
   "execution_count": null,
   "metadata": {},
   "outputs": [],
   "source": [
    "θ_AKLT_approach = linrange(0, atan(1/3), 20; endpoint=false)\n",
    "\n",
    "Ψ_AKLT_list = bilinear_biquadratic_θ_range(θ_AKLT_approach, spin=1, bond=24, maxiter=500)\n",
    "spectra_AKLT = entanglement_spectra(Ψ_AKLT_list)\n",
    "\n",
    "plot_spectra(θ_AKLT_approach, spectra_AKLT)\n",
    "display(current())"
   ]
  },
  {
   "attachments": {},
   "cell_type": "markdown",
   "metadata": {},
   "source": [
    "![](AKLT_spectra.svg)"
   ]
  },
  {
   "attachments": {},
   "cell_type": "markdown",
   "metadata": {},
   "source": [
    "We take the Schmidt value $\\chi=3$ and see how it changes for each $\\theta$:"
   ]
  },
  {
   "cell_type": "code",
   "execution_count": null,
   "metadata": {},
   "outputs": [],
   "source": [
    "χ=3\n",
    "scatter(θ_AKLT_approach, spectra_AKLT[:, χ], yscale=:log10, xlabel=\"θ\", ylabel=\"Schmidt coefficient $(χ)\", legend=false, color=:black)\n",
    "vline!([atan(1/3)], label=nothing)\n",
    "display(current())"
   ]
  },
  {
   "attachments": {},
   "cell_type": "markdown",
   "metadata": {},
   "source": [
    "![](AKLT_chi%3D4.svg)"
   ]
  },
  {
   "attachments": {},
   "cell_type": "markdown",
   "metadata": {},
   "source": [
    "## Approaching Nematic\n",
    "\n",
    "Let's now look at the correlation length $\\xi$ for $\\theta \\in [0, \\frac{\\pi}{4}[$. The phase beyond $\\frac{\\pi}{4}$ is called the Nematic phase."
   ]
  },
  {
   "cell_type": "code",
   "execution_count": null,
   "metadata": {},
   "outputs": [],
   "source": [
    "θ_Nematic_approach = linrange(0, π/4, 20; endpoint=false)\n",
    "\n",
    "Ψ_Nematic_list = bilinear_biquadratic_θ_range(θ_Nematic_approach, spin=1, bond=24, maxiter=500)\n",
    "spectra_Nematic = entanglement_spectra(Ψ_Nematic_list)\n",
    "correlations_Nematic = correlation_lengths(Ψ_Nematic_list)\n",
    "\n",
    "scatter(θ_Nematic_approach, correlations_Nematic, yscale=:log10, xlabel=\"θ\", ylabel=\"ξ\", legend=false, color=:black)\n",
    "vline!([atan(1/3)], label=nothing, color=:red)\n",
    "vline!([π/4], label=nothing, color=:red)\n",
    "display(current())"
   ]
  },
  {
   "attachments": {},
   "cell_type": "markdown",
   "metadata": {},
   "source": [
    "![](Nemtaic_correlations.svg)"
   ]
  },
  {
   "attachments": {},
   "cell_type": "markdown",
   "metadata": {},
   "source": [
    "If we now choose $\\theta=\\frac{\\pi}{4}$ and increase the bond dimension we will see that the correlation length grows exponentially. \n",
    "\n",
    "This makes sense as the correlation length for this critical point (gapless) should be infinite.  \n",
    "But since MPS are poor approximations for gapless states² we see this 'artifact' of ever increasing $\\xi$ for increasing bond dimension."
   ]
  },
  {
   "cell_type": "code",
   "execution_count": null,
   "metadata": {},
   "outputs": [],
   "source": [
    "bond_range = 14:27\n",
    "correlations = correlation_bond_range(bond_range, bilinear_biquadratic_hamiltonian(θ=π/4))\n",
    "scatter(bond_range, correlations, yscale=:log10, xlabel=\"bond dimension\", ylabel=\"ξ\", xticks=Int.(bond_range), legend=false, color=:black)\n"
   ]
  },
  {
   "attachments": {},
   "cell_type": "markdown",
   "metadata": {},
   "source": [
    "![](critical_correlations.svg)"
   ]
  },
  {
   "attachments": {},
   "cell_type": "markdown",
   "metadata": {},
   "source": [
    "## Haldane $\\to$ Trivial Phase\n",
    "\n",
    "The relevant symmetries of the HAFM are:\n",
    "- $\\mathrm{SO}_3$ rotation group\n",
    "- $\\mathbb Z_2 \\times \\mathbb Z_2$ subgroup of $\\mathrm{SO}_3$:  \n",
    "This can be represented as a $\\pi$ rotation (or no rotation) around $2$ orthonal axes.\n",
    "- $\\mathbb Z_2^T$ time reversal:  \n",
    "This flips the spins $\\boldsymbol S \\to - \\boldsymbol S$ ($\\sim$ angular momenta)\n",
    "- $\\mathbb Z_2^P$ parity:  \n",
    "We can flip the spin chain around a site or around a bond. The HAFM is invariant under both. This relies on translation invariance.\n",
    "\n",
    "As mentioned earlier if the symmetry (with non-trivial proj. rep.) is preserved along a path of gapped parent hamiltonians we must cross a phase transition if we wish to return to the trivial phase from the SPT phase.\n",
    "\n",
    "We will now travel to the trivial phase by:\n",
    "1. preserving some of the symmetry and hence crossing a phase transition \n",
    "2. by breaking all the symmetry and hence not crossing a phase transition\n",
    "\n",
    "#### Preserving Symmetry\n",
    "\n",
    "The hamiltonian with perturbation:\n",
    "$$\n",
    "H=\\sum_i J \\boldsymbol S_i\\cdot \\boldsymbol S_{i+1} + g \\left(S_i^z\\right)^2\n",
    "$$\n",
    "breaks all symmetries of the original HAFM except for the $\\mathbb Z_2 \\times \\mathbb Z_2$ subgroup of $\\mathrm{SO}_3$ and time reversal $\\mathbb Z_{2}^T$. To see this:\n",
    "- $\\mathbb Z_2 \\times \\mathbb Z_2$:  \n",
    "Any rotation of $\\pi$ radians along the cartesian axes will transform $S^z$ to $\\pm S^z$, hence $\\left(S^z\\right)^2$ is invariant.\n",
    "- $\\mathbb Z_2^T$:  \n",
    "Flips the spin $S^z \\to - S^z$ so again $\\left(S^z\\right)^2$ is invariant.\n",
    "- $\\mathbb Z_2^P$:  \n",
    "Doesn't break translation invariance and is invariant under any flipping of the spin chain as this is just an one-site operator.\n",
    "\n",
    "If we now make $g \\to +\\infty$ we should end up in a product state $\\ket {000...}$ which is of course no longer in an SPT phase, hence we must cross a phase transition.\n",
    "\n",
    "Let's look at the spectrum for varying $g$:"
   ]
  },
  {
   "cell_type": "code",
   "execution_count": null,
   "metadata": {},
   "outputs": [],
   "source": [
    "H = HAFM_zz(spin=1, J=1.0, g=.5)\n",
    "Ψ_HAFM = optimize_groundstate(H, bond=24, maxiter=500)\n",
    "spectrum_HAFM = entanglement_spectrum(Ψ_HAFM)\n",
    "plot_entanglement(spectrum_HAFM)\n",
    "display(current())"
   ]
  },
  {
   "attachments": {},
   "cell_type": "markdown",
   "metadata": {},
   "source": [
    "![](HAFM_zz_spectrum2.svg)"
   ]
  },
  {
   "attachments": {},
   "cell_type": "markdown",
   "metadata": {},
   "source": [
    "We see that some of the degeneracies have split into smaller groups. This can be understood as the breaking of the $\\mathrm{SO}_3 \\to \\mathbb Z_2 \\times \\mathbb Z_2$ subgroup."
   ]
  },
  {
   "cell_type": "code",
   "execution_count": null,
   "metadata": {},
   "outputs": [],
   "source": [
    "H = HAFM_zz(spin=1, J=1.0, g=1.5)\n",
    "Ψ_HAFM = optimize_groundstate(H, bond=24, maxiter=500)\n",
    "spectrum_HAFM = entanglement_spectrum(Ψ_HAFM)\n",
    "plot_entanglement(spectrum_HAFM, clear=false, color=:red)\n",
    "display(current())"
   ]
  },
  {
   "attachments": {},
   "cell_type": "markdown",
   "metadata": {},
   "source": [
    "![](HAFM_zz_spectrum1.svg)"
   ]
  },
  {
   "attachments": {},
   "cell_type": "markdown",
   "metadata": {},
   "source": [
    "There is a difference between the 2 spectra. One seems to have a lot of degen\n",
    "\n",
    "Now let's look at the correlation length for varying $g$ to see if we can find a phase transition:"
   ]
  },
  {
   "cell_type": "code",
   "execution_count": null,
   "metadata": {},
   "outputs": [],
   "source": [
    "gzz_range = linrange(0, 10, 20)\n",
    "\n",
    "Ψ_zz = perturbation_range(HAFM_zz, gzz_range, J=1.0, spin=1, bond=24, maxiter=500)\n",
    "correlations_zz = correlation_lengths(Ψ_zz)\n",
    "\n",
    "scatter(gzz_range, correlations_zz, yscale=:log10, xlabel=\"g\", ylabel=\"ξ\", legend=false, color=:black)\n",
    "display(current())"
   ]
  },
  {
   "attachments": {},
   "cell_type": "markdown",
   "metadata": {},
   "source": [
    "![](HAFM_zz_correlations_g.svg)"
   ]
  },
  {
   "attachments": {},
   "cell_type": "markdown",
   "metadata": {},
   "source": [
    "There is a peak at $g=1$, this peak again grows for increasing bond dimension. As expected there is a phase transition."
   ]
  },
  {
   "cell_type": "code",
   "execution_count": null,
   "metadata": {},
   "outputs": [],
   "source": [
    "bond_range = 15:5:30\n",
    "correlation_bond_range(bond_range, HAFM_zz(g=1.0))\n",
    "scatter(bond_range, correlations, yscale=:log10, xlabel=\"bond dimension\", ylabel=\"ξ\", xticks=Int.(bond_range), legend=false, color=:black)"
   ]
  },
  {
   "attachments": {},
   "cell_type": "markdown",
   "metadata": {},
   "source": [
    "![](HAFM_zz_correlations_bond.svg)"
   ]
  },
  {
   "attachments": {},
   "cell_type": "markdown",
   "metadata": {},
   "source": [
    "#### Breaking all Symmetry\n",
    "\n",
    "The hamiltonian with perturbation:\n",
    "$$\n",
    "H=\\sum_i J \\boldsymbol S_i\\cdot \\boldsymbol S_{i+1} + (-1)^i g S_i^z\n",
    "$$\n",
    "breaks all symmetries of the original HAFM.\n",
    "- $\\mathbb Z_2 \\times \\mathbb Z_2$:  \n",
    "is broken as rotating around the $x$ or $y$ axis flips the sign of $S^z$ which means it is already no longer invariant under $\\mathbb Z_2$.\n",
    "- $\\mathbb Z_2^T$:  \n",
    "flips the spins and hence also $S^z$.\n",
    "- $\\mathbb Z_2^P$:  \n",
    "the staggered perturbation breaks the original translation invariance and thus breaks both parity symmetries."
   ]
  },
  {
   "attachments": {},
   "cell_type": "markdown",
   "metadata": {},
   "source": [
    "Notes:\n",
    "1. It has been shown that the Haldane gap is only invariant under physical linear representations (not sure if this is always true for SPT phases)\n",
    "2. gapped H have exponential $\\xi$ decay whilst gapless H have power law decay  \n",
    "$\\implies$ MPS, which also have exponential decay, are good to describe gapped states.\n",
    "- The order of the virtual irreps in the SPT phase is just what happens to make the ground state the lowest energy\n",
    "- Excitation gap of the magnon becomes zero as $\\theta \\to \\pi/4$"
   ]
  },
  {
   "cell_type": "markdown",
   "metadata": {},
   "source": []
  }
 ],
 "metadata": {
  "kernelspec": {
   "display_name": "Julia 1.8.1",
   "language": "julia",
   "name": "julia-1.8"
  },
  "language_info": {
   "file_extension": ".jl",
   "mimetype": "application/julia",
   "name": "julia",
   "version": "1.8.1"
  }
 },
 "nbformat": 4,
 "nbformat_minor": 4
}
