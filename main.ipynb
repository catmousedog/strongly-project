{
 "cells": [
  {
   "cell_type": "code",
   "execution_count": 5,
   "metadata": {},
   "outputs": [
    {
     "name": "stderr",
     "output_type": "stream",
     "text": [
      "WARNING: replacing module hamiltonian.\n",
      "WARNING: using hamiltonian.AKLT_hamiltonian in module Main conflicts with an existing identifier.\n"
     ]
    }
   ],
   "source": [
    "include(\"hamiltonian.jl\")\n",
    "using .hamiltonian\n",
    "\n",
    "using MPSKit, MPSKitModels, TensorKit, TensorOperations"
   ]
  },
  {
   "cell_type": "code",
   "execution_count": 7,
   "metadata": {},
   "outputs": [
    {
     "name": "stdout",
     "output_type": "stream",
     "text": [
      "-0.7499999999999998 + 5.573225552949482e-18im\n"
     ]
    },
    {
     "name": "stderr",
     "output_type": "stream",
     "text": [
      "┌ Info: Iteraton 0 error 1.2148248340281265e-15\n",
      "└ @ MPSKit /home/arno/.julia/packages/MPSKit/xZ4LA/src/algorithms/groundstate/dmrg.jl:38\n"
     ]
    }
   ],
   "source": [
    "# spin 1/2 heisenberg ferromagnetic model gives correct energy\n",
    "\n",
    "N=4\n",
    "H = AKLT_hamiltonian(J=1.0, θ=π, spin=1//2)\n",
    "Ψ = FiniteMPS(randn, ComplexF64, N, ℂ^2, ℂ^10)\n",
    "Ψ, envs, δ = find_groundstate(Ψ, H, DMRG())\n",
    "E = sum(expectation_value(Ψ, H))\n",
    "println(E)"
   ]
  },
  {
   "cell_type": "code",
   "execution_count": 12,
   "metadata": {},
   "outputs": [
    {
     "ename": "UndefVarError",
     "evalue": "UndefVarError: type not defined",
     "output_type": "error",
     "traceback": [
      "UndefVarError: type not defined\n",
      "\n",
      "Stacktrace:\n",
      " [1] top-level scope\n",
      "   @ ~/Documents/UGent/Ma1/sem2/strongly/strongly-project/main.ipynb:4"
     ]
    }
   ],
   "source": [
    "# spin 1 heisenberg ferromagnetic error\n",
    "\n",
    "N=4\n",
    "# changing symmetry doesn't work\n",
    "H = AKLT_hamiltonian(symmetry=ℤ{2}, J=1.0, θ=π, spin=1)\n",
    "Ψ = FiniteMPS(randn, ComplexF64, N, ℂ^2, ℂ^10)\n",
    "Ψ, envs, δ = find_groundstate(Ψ, H, DMRG())\n",
    "E = sum(expectation_value(Ψ, H))\n",
    "println(E)"
   ]
  }
 ],
 "metadata": {
  "kernelspec": {
   "display_name": "Julia 1.8.1",
   "language": "julia",
   "name": "julia-1.8"
  },
  "language_info": {
   "file_extension": ".jl",
   "mimetype": "application/julia",
   "name": "julia",
   "version": "1.8.1"
  }
 },
 "nbformat": 4,
 "nbformat_minor": 4
}
